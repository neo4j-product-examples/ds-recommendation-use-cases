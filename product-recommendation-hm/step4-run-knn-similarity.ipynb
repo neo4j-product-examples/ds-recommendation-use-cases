{
 "cells": [
  {
   "cell_type": "markdown",
   "id": "4fd19f8c-2f3b-40d9-93d6-2bed6b76cc47",
   "metadata": {
    "tags": []
   },
   "source": [
    "# K-Nearest Neighbor (KNN) Similarity\n",
    "This notebook demonstrates running FastRP Embeddings and KNN across the H&M dataset of customer purchases.  Thes commands could be wrapped in a service or batch job to run & update on a recurring basis as the dataset is updated over time. "
   ]
  },
  {
   "cell_type": "code",
   "execution_count": 30,
   "id": "1b7fba45-0a87-40d4-930a-15fa9a95991a",
   "metadata": {},
   "outputs": [],
   "source": [
    "import pandas as pd\n",
    "import configparser"
   ]
  },
  {
   "cell_type": "markdown",
   "id": "47fd67f8-ff53-446c-9de8-f60011cc5649",
   "metadata": {},
   "source": [
    "### Neo4j Settings\n",
    "The `neo4j.ini` file is an ini configuration for Neo4j properties so this notebook can connect to your Neo4j instance and load data. The ini file should be formatted as follows:\n",
    "\n",
    "```\n",
    "[NEO4J]\n",
    "PASSWORD=<password>\n",
    "USERNAME=<username, is 'neo4j' by default>\n",
    "HOST=<host uri>\n",
    "```"
   ]
  },
  {
   "cell_type": "code",
   "execution_count": 31,
   "id": "68d6cc49-cccc-4c7f-8bb9-c4489c176e04",
   "metadata": {},
   "outputs": [],
   "source": [
    "config = configparser.RawConfigParser()\n",
    "config.read('neo4j.ini')\n",
    "HOST = config['NEO4J']['HOST']\n",
    "USERNAME = config['NEO4J']['USERNAME']\n",
    "PASSWORD = config['NEO4J']['PASSWORD']"
   ]
  },
  {
   "cell_type": "markdown",
   "id": "b143677f-d259-4a3f-ad38-22f87c1a0084",
   "metadata": {},
   "source": [
    "### Connect to Graph Data Science (GDS)"
   ]
  },
  {
   "cell_type": "code",
   "execution_count": 32,
   "id": "f06f4f4f-0690-47b7-a09a-61e67e8898ba",
   "metadata": {},
   "outputs": [],
   "source": [
    "from graphdatascience import GraphDataScience\n",
    "\n",
    "# Use Neo4j URI and credentials according to your setup\n",
    "gds = GraphDataScience(HOST, auth=(USERNAME, PASSWORD), aura_ds=True)"
   ]
  },
  {
   "cell_type": "code",
   "execution_count": 33,
   "id": "65ecccc1-c965-488d-98e6-4e0878720c23",
   "metadata": {},
   "outputs": [],
   "source": [
    "def clear_all_graphs():\n",
    "    g_names = gds.graph.list().graphName.tolist()\n",
    "    for g_name in g_names:\n",
    "        g = gds.graph.get(g_name)\n",
    "        gds.graph.drop(g)"
   ]
  },
  {
   "cell_type": "markdown",
   "id": "e1564628-aec8-4125-b819-4e46eeac5c3a",
   "metadata": {},
   "source": [
    "## Clear Past Analysis"
   ]
  },
  {
   "cell_type": "code",
   "execution_count": 34,
   "id": "3a0056cd-d787-4e34-a4b4-242d0e6e06c6",
   "metadata": {},
   "outputs": [],
   "source": [
    "clear_all_graphs()"
   ]
  },
  {
   "cell_type": "code",
   "execution_count": 35,
   "id": "f46c354b-1c27-4b17-8961-f5d8756176b5",
   "metadata": {},
   "outputs": [
    {
     "data": {
      "text/html": [
       "<div>\n",
       "<style scoped>\n",
       "    .dataframe tbody tr th:only-of-type {\n",
       "        vertical-align: middle;\n",
       "    }\n",
       "\n",
       "    .dataframe tbody tr th {\n",
       "        vertical-align: top;\n",
       "    }\n",
       "\n",
       "    .dataframe thead th {\n",
       "        text-align: right;\n",
       "    }\n",
       "</style>\n",
       "<table border=\"1\" class=\"dataframe\">\n",
       "  <thead>\n",
       "    <tr style=\"text-align: right;\">\n",
       "      <th></th>\n",
       "    </tr>\n",
       "  </thead>\n",
       "  <tbody>\n",
       "  </tbody>\n",
       "</table>\n",
       "</div>"
      ],
      "text/plain": [
       "Empty DataFrame\n",
       "Columns: []\n",
       "Index: []"
      ]
     },
     "execution_count": 35,
     "metadata": {},
     "output_type": "execute_result"
    }
   ],
   "source": [
    "gds.run_cypher('MATCH(:Article)-[r:CUSTOMERS_ALSO_PURCHASED]->() DELETE r')"
   ]
  },
  {
   "cell_type": "code",
   "execution_count": 36,
   "id": "23f69390-8c62-42fc-b9bd-8f62ef0fda79",
   "metadata": {},
   "outputs": [
    {
     "data": {
      "text/html": [
       "<div>\n",
       "<style scoped>\n",
       "    .dataframe tbody tr th:only-of-type {\n",
       "        vertical-align: middle;\n",
       "    }\n",
       "\n",
       "    .dataframe tbody tr th {\n",
       "        vertical-align: top;\n",
       "    }\n",
       "\n",
       "    .dataframe thead th {\n",
       "        text-align: right;\n",
       "    }\n",
       "</style>\n",
       "<table border=\"1\" class=\"dataframe\">\n",
       "  <thead>\n",
       "    <tr style=\"text-align: right;\">\n",
       "      <th></th>\n",
       "    </tr>\n",
       "  </thead>\n",
       "  <tbody>\n",
       "  </tbody>\n",
       "</table>\n",
       "</div>"
      ],
      "text/plain": [
       "Empty DataFrame\n",
       "Columns: []\n",
       "Index: []"
      ]
     },
     "execution_count": 36,
     "metadata": {},
     "output_type": "execute_result"
    }
   ],
   "source": [
    "gds.run_cypher('MATCH(n:EstCustomer) REMOVE n:EstCustomer')\n",
    "gds.run_cypher('MATCH(n:EstArticle) REMOVE n:EstArticle')\n",
    "gds.run_cypher('MATCH(n:EstProduct) REMOVE n:EstProduct')"
   ]
  },
  {
   "cell_type": "markdown",
   "id": "068de050-5263-45b4-a29c-7c85ffb8b435",
   "metadata": {},
   "source": [
    "## Label Entities in Main Component\n",
    "Above 99% of the data is in the one largest graph component. We will label the nodes in this largest, or \"main\", component so they are easier to select for downstream analytics.  The minority of customers and articles that lie outside of the main component will essentially be cold starters.  While out of scope for this demo, we can provide recommendations to that minority differently, i.e. by providing overall most popular articles to new customers and using different content based recommendations for new articles. "
   ]
  },
  {
   "cell_type": "code",
   "execution_count": 37,
   "id": "652e98cd-04f7-4f11-8a2c-9b291ff70811",
   "metadata": {},
   "outputs": [],
   "source": [
    "g, _ = gds.graph.project('proj',['Customer', 'Article', 'Product'],\n",
    "                         {'PURCHASED':{'orientation':'UNDIRECTED'}, 'IS_PRODUCT':{'orientation':'UNDIRECTED'}}, \n",
    "                         readConcurrency=20)"
   ]
  },
  {
   "cell_type": "code",
   "execution_count": 38,
   "id": "116aab77-172a-4941-8b08-ee90624d0f9d",
   "metadata": {},
   "outputs": [
    {
     "data": {
      "text/plain": [
       "{'p99': 2,\n",
       " 'min': 1,\n",
       " 'max': 1514151,\n",
       " 'mean': 150.86009696250125,\n",
       " 'p90': 1,\n",
       " 'p50': 1,\n",
       " 'p999': 3,\n",
       " 'p95': 1,\n",
       " 'p75': 1}"
      ]
     },
     "execution_count": 38,
     "metadata": {},
     "output_type": "execute_result"
    }
   ],
   "source": [
    "gds.wcc.write(g, writeProperty='component').componentDistribution"
   ]
  },
  {
   "cell_type": "code",
   "execution_count": 39,
   "id": "f2ca42bc-43d8-4002-a9b6-19bd5e643a5f",
   "metadata": {},
   "outputs": [],
   "source": [
    "largest_component_id = gds.run_cypher('''\n",
    "    MATCH(n) \n",
    "    RETURN n.component AS largestComponentId, count(n) AS numberOfEntities ORDER BY numberOfEntities DESC LIMIT 1\n",
    "''').largestComponentId[0]"
   ]
  },
  {
   "cell_type": "code",
   "execution_count": 40,
   "id": "eafc7ce3-2da1-43c6-a6dd-f29430358bc2",
   "metadata": {},
   "outputs": [
    {
     "name": "stdout",
     "output_type": "stream",
     "text": [
      "-- Labeled Customers in Main Component ---\n",
      "   count(n)\n",
      "0   1362264\n",
      "-- Labeled Articles in Main Component ---\n",
      "   count(n)\n",
      "0    105071\n",
      "-- Labeled Products in Main Component ---\n",
      "   count(n)\n",
      "0     46816\n"
     ]
    }
   ],
   "source": [
    "res = gds.run_cypher('''\n",
    "    MATCH(n:Customer) WHERE n.component = $largestComponentId\n",
    "    SET n:EstCustomer\n",
    "    RETURN count(n)\n",
    "''', params = {'largestComponentId':int(largest_component_id)})\n",
    "print('-- Labeled Customers in Main Component ---')\n",
    "print(res)\n",
    "      \n",
    "res = gds.run_cypher('''\n",
    "    MATCH(n:Article) WHERE n.component = $largestComponentId\n",
    "    SET n:EstArticle\n",
    "    RETURN count(n)\n",
    "''', params = {'largestComponentId':int(largest_component_id)})\n",
    "print('-- Labeled Articles in Main Component ---')\n",
    "print(res)\n",
    "      \n",
    "res = gds.run_cypher('''\n",
    "    MATCH(n:Product) WHERE n.component = $largestComponentId\n",
    "    SET n:EstProduct\n",
    "    RETURN count(n)\n",
    "''', params = {'largestComponentId':int(largest_component_id)})\n",
    "print('-- Labeled Products in Main Component ---')\n",
    "print(res)    "
   ]
  },
  {
   "cell_type": "code",
   "execution_count": 41,
   "id": "9d18464c-87e0-4db8-af8c-10dffb7d2232",
   "metadata": {},
   "outputs": [],
   "source": [
    "g.drop()"
   ]
  },
  {
   "cell_type": "markdown",
   "id": "7bfcda41-0e69-4520-8565-7b087bab8b63",
   "metadata": {},
   "source": [
    "## Apply GDS FastRP Node Embeddings and K-Nearest Neighbor (KNN) Similarity\n",
    "We will use a slightly lower cutoff of 0.75 to extend the result size for exploratoration in the demo.  We can provide a higher cutoff at query time if needed."
   ]
  },
  {
   "cell_type": "code",
   "execution_count": 42,
   "id": "ffc56962-a224-4e1b-a22e-75b734262875",
   "metadata": {},
   "outputs": [
    {
     "name": "stdout",
     "output_type": "stream",
     "text": [
      "CPU times: user 25.6 ms, sys: 982 µs, total: 26.6 ms\n",
      "Wall time: 1min 46s\n"
     ]
    },
    {
     "data": {
      "text/plain": [
       "ranIterations                                                           116\n",
       "didConverge                                                            True\n",
       "nodePairsConsidered                                               220618923\n",
       "preProcessingMillis                                                       0\n",
       "computeMillis                                                         65887\n",
       "writeMillis                                                            8160\n",
       "postProcessingMillis                                                     -1\n",
       "nodesCompared                                                        105071\n",
       "relationshipsWritten                                                 427230\n",
       "similarityDistribution    {'p1': 0.750579833984375, 'max': 1.00000381469...\n",
       "configuration             {'topK': 10, 'maxIterations': 1000, 'writeConc...\n",
       "Name: 0, dtype: object"
      ]
     },
     "execution_count": 42,
     "metadata": {},
     "output_type": "execute_result"
    }
   ],
   "source": [
    "%%time\n",
    "# graph projection\n",
    "g, _ = gds.graph.project('proj',['EstCustomer', 'EstArticle', 'EstProduct'],\n",
    "                         {'PURCHASED':{'orientation':'UNDIRECTED'}, 'IS_PRODUCT':{'orientation':'UNDIRECTED'}}, \n",
    "                         readConcurrency=20)\n",
    "\n",
    "# embeddings (writing back Article embeddings in case we want to introspect later)\n",
    "gds.fastRP.mutate(g, mutateProperty='embedding', embeddingDimension=256, randomSeed=7474, concurrency=20)\n",
    "gds.graph.writeNodeProperties(g, ['embedding'], ['EstArticle'])\n",
    "\n",
    "# KNN\n",
    "gds.knn.write(g, nodeProperties=['embedding'], nodeLabels=['EstArticle'],\n",
    "                  writeRelationshipType='CUSTOMERS_ALSO_PURCHASED', writeProperty='score', \n",
    "                  sampleRate=1.0,maxIterations=1000, similarityCutoff=0.75, concurrency=20);"
   ]
  },
  {
   "cell_type": "code",
   "execution_count": 29,
   "id": "75733fc9-e6b4-4e1d-b63d-0b31ed593666",
   "metadata": {},
   "outputs": [],
   "source": [
    "g.drop()"
   ]
  }
 ],
 "metadata": {
  "environment": {
   "kernel": "python3",
   "name": "tf2-gpu.2-8.m93",
   "type": "gcloud",
   "uri": "gcr.io/deeplearning-platform-release/tf2-gpu.2-8:m93"
  },
  "kernelspec": {
   "display_name": "Python 3",
   "language": "python",
   "name": "python3"
  },
  "language_info": {
   "codemirror_mode": {
    "name": "ipython",
    "version": 3
   },
   "file_extension": ".py",
   "mimetype": "text/x-python",
   "name": "python",
   "nbconvert_exporter": "python",
   "pygments_lexer": "ipython3",
   "version": "3.7.12"
  }
 },
 "nbformat": 4,
 "nbformat_minor": 5
}
