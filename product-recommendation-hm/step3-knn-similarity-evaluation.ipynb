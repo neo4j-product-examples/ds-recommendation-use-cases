{
 "cells": [
  {
   "cell_type": "markdown",
   "id": "ee422a18-cc4b-44ba-ba27-a3bc0338a8b6",
   "metadata": {
    "tags": []
   },
   "source": [
    "# K-Nearest Neighbor (KNN) Similarity Evaluation\n",
    "This notebook demonstrates evaluating FastRP Embeddings and KNN for the H&M dataset of customer purchases.  Thes commands could be wrapped in a service or batch job to run & update on a recurring basis and test for changes in performance as the dataset is updated over time. "
   ]
  },
  {
   "cell_type": "code",
   "execution_count": 37,
   "id": "fec4593e-0ccc-44e3-9775-505f1e5ecacd",
   "metadata": {},
   "outputs": [],
   "source": [
    "import pandas as pd\n",
    "import configparser\n",
    "from datetime import datetime, timedelta"
   ]
  },
  {
   "cell_type": "code",
   "execution_count": 39,
   "id": "d77fa479-34db-4f96-840b-a996c63cca6f",
   "metadata": {
    "tags": []
   },
   "outputs": [],
   "source": [
    "def clear_all_graphs():\n",
    "    g_names = gds.graph.list().graphName.tolist()\n",
    "    for g_name in g_names:\n",
    "        g = gds.graph.get(g_name)\n",
    "        gds.graph.drop(g)"
   ]
  },
  {
   "cell_type": "markdown",
   "id": "d4663c9e-6575-45ee-af0b-cc311a05865e",
   "metadata": {},
   "source": [
    "### Neo4j Settings\n",
    "The `neo4j.ini` file is an ini configuration for Neo4j properties so this notebook can connect to your Neo4j instance and load data. The ini file should be formatted as follows:\n",
    "\n",
    "```\n",
    "[NEO4J]\n",
    "PASSWORD=<password>\n",
    "USERNAME=<username, is 'neo4j' by default>\n",
    "HOST=<host uri>\n",
    "```"
   ]
  },
  {
   "cell_type": "code",
   "execution_count": 38,
   "id": "59e500e6-ee25-404c-8c31-2dbc2acc6776",
   "metadata": {},
   "outputs": [],
   "source": [
    "config = configparser.RawConfigParser()\n",
    "config.read('neo4j.ini')\n",
    "HOST = config['NEO4J']['HOST']\n",
    "USERNAME = config['NEO4J']['USERNAME']\n",
    "PASSWORD = config['NEO4J']['PASSWORD']"
   ]
  },
  {
   "cell_type": "markdown",
   "id": "129d4b3d-de0a-4d47-89da-5b8d0813ec29",
   "metadata": {},
   "source": [
    "### Connect to Graph Data Science (GDS)"
   ]
  },
  {
   "cell_type": "code",
   "execution_count": 41,
   "id": "c300a60d-c06a-428c-b3ba-73fc889d4dae",
   "metadata": {},
   "outputs": [],
   "source": [
    "from graphdatascience import GraphDataScience\n",
    "\n",
    "# Use Neo4j URI and credentials according to your setup\n",
    "gds = GraphDataScience(HOST, auth=(USERNAME, PASSWORD), aura_ds=True)"
   ]
  },
  {
   "cell_type": "markdown",
   "id": "dc52f0f3-0b53-4251-8b2c-756afc408503",
   "metadata": {},
   "source": [
    "## Merge Historic Relationships for Evaluation\n",
    "We will add mirror historic purchase relationships to split the dataset. We will reserve the last week of purchases for evaluation and the rest for calculating KNN similarity."
   ]
  },
  {
   "cell_type": "code",
   "execution_count": 42,
   "id": "ade759e1-490d-4459-9b1c-c5c8b287494a",
   "metadata": {},
   "outputs": [
    {
     "data": {
      "text/html": [
       "<div>\n",
       "<style scoped>\n",
       "    .dataframe tbody tr th:only-of-type {\n",
       "        vertical-align: middle;\n",
       "    }\n",
       "\n",
       "    .dataframe tbody tr th {\n",
       "        vertical-align: top;\n",
       "    }\n",
       "\n",
       "    .dataframe thead th {\n",
       "        text-align: right;\n",
       "    }\n",
       "</style>\n",
       "<table border=\"1\" class=\"dataframe\">\n",
       "  <thead>\n",
       "    <tr style=\"text-align: right;\">\n",
       "      <th></th>\n",
       "    </tr>\n",
       "  </thead>\n",
       "  <tbody>\n",
       "  </tbody>\n",
       "</table>\n",
       "</div>"
      ],
      "text/plain": [
       "Empty DataFrame\n",
       "Columns: []\n",
       "Index: []"
      ]
     },
     "execution_count": 42,
     "metadata": {},
     "output_type": "execute_result"
    }
   ],
   "source": [
    "gds.run_cypher('CREATE INDEX purchase_date IF NOT EXISTS FOR ()-[r:PURCHASED]-() ON (r.transactionDate)')"
   ]
  },
  {
   "cell_type": "code",
   "execution_count": 43,
   "id": "4ed90dff-64f4-4308-8907-9559c236594c",
   "metadata": {},
   "outputs": [],
   "source": [
    "max_purchase_date = gds.run_cypher('MATCH(:Customer)-[r:PURCHASED]->() RETURN max(r.transactionDate) AS maxDate')['maxDate'][0]\n",
    "cutoff_date = datetime(year=max_purchase_date.year, month=max_purchase_date.month, day=max_purchase_date.day) - timedelta(days=7)"
   ]
  },
  {
   "cell_type": "code",
   "execution_count": 291,
   "id": "876272d5-8371-41f2-94fd-cc51f05ba8a2",
   "metadata": {},
   "outputs": [
    {
     "data": {
      "text/html": [
       "<div>\n",
       "<style scoped>\n",
       "    .dataframe tbody tr th:only-of-type {\n",
       "        vertical-align: middle;\n",
       "    }\n",
       "\n",
       "    .dataframe tbody tr th {\n",
       "        vertical-align: top;\n",
       "    }\n",
       "\n",
       "    .dataframe thead th {\n",
       "        text-align: right;\n",
       "    }\n",
       "</style>\n",
       "<table border=\"1\" class=\"dataframe\">\n",
       "  <thead>\n",
       "    <tr style=\"text-align: right;\">\n",
       "      <th></th>\n",
       "      <th>count(*)</th>\n",
       "    </tr>\n",
       "  </thead>\n",
       "  <tbody>\n",
       "    <tr>\n",
       "      <th>0</th>\n",
       "      <td>266364</td>\n",
       "    </tr>\n",
       "  </tbody>\n",
       "</table>\n",
       "</div>"
      ],
      "text/plain": [
       "   count(*)\n",
       "0    266364"
      ]
     },
     "execution_count": 291,
     "metadata": {},
     "output_type": "execute_result"
    }
   ],
   "source": [
    "gds.run_cypher('''\n",
    "    MATCH(c:Customer)-[r:PURCHASED]->(a) \n",
    "    WHERE r.transactionDate >= date($cutoffDate)\n",
    "    WITH c, a, r\n",
    "    CALL {\n",
    "    WITH c, a, r\n",
    "        MERGE(c)-[h:RECENTLY_PURCHASED {transactionDate:r.transactionDate, transactionId:r.transactionId}]->(a) \n",
    "    }  IN TRANSACTIONS OF 100000 ROWS\n",
    "    RETURN count(*)\n",
    "''', params={'cutoffDate':str(cutoff_date)[:10]})"
   ]
  },
  {
   "cell_type": "code",
   "execution_count": 292,
   "id": "6eaf342a-ccf2-48a0-9240-206dafcb06a0",
   "metadata": {},
   "outputs": [
    {
     "name": "stdout",
     "output_type": "stream",
     "text": [
      "CPU times: user 47.6 ms, sys: 19.4 ms, total: 67 ms\n",
      "Wall time: 19min 15s\n"
     ]
    },
    {
     "data": {
      "text/html": [
       "<div>\n",
       "<style scoped>\n",
       "    .dataframe tbody tr th:only-of-type {\n",
       "        vertical-align: middle;\n",
       "    }\n",
       "\n",
       "    .dataframe tbody tr th {\n",
       "        vertical-align: top;\n",
       "    }\n",
       "\n",
       "    .dataframe thead th {\n",
       "        text-align: right;\n",
       "    }\n",
       "</style>\n",
       "<table border=\"1\" class=\"dataframe\">\n",
       "  <thead>\n",
       "    <tr style=\"text-align: right;\">\n",
       "      <th></th>\n",
       "      <th>count(*)</th>\n",
       "    </tr>\n",
       "  </thead>\n",
       "  <tbody>\n",
       "    <tr>\n",
       "      <th>0</th>\n",
       "      <td>31521960</td>\n",
       "    </tr>\n",
       "  </tbody>\n",
       "</table>\n",
       "</div>"
      ],
      "text/plain": [
       "   count(*)\n",
       "0  31521960"
      ]
     },
     "execution_count": 292,
     "metadata": {},
     "output_type": "execute_result"
    }
   ],
   "source": [
    "%%time\n",
    "gds.run_cypher('''\n",
    "    MATCH(c:Customer)-[r:PURCHASED]->(a) \n",
    "    WHERE r.transactionDate < date($cutoffDate)\n",
    "    WITH c, a, r\n",
    "    CALL {\n",
    "        WITH c, a, r\n",
    "        MERGE(c)-[h:HISTORICALLY_PURCHASED {transactionDate:r.transactionDate, transactionId:r.transactionId}]->(a)\n",
    "    }  IN TRANSACTIONS OF 100000 ROWS\n",
    "    RETURN count(*)\n",
    "''', params={'cutoffDate':str(cutoff_date)[:10]})"
   ]
  },
  {
   "cell_type": "markdown",
   "id": "1b7bb1f1-d700-4b56-8a3e-04a7cf08a195",
   "metadata": {},
   "source": [
    "## Label Entities in Main Component\n",
    "Above 99% of the data is in the one largest graph component. We will label the nodes in this largest, or \"main\", component so they are easier to select for downstream analytics.  The minority of customers and articles that lie outside of the main component will essentially be cold starters.  While out of scope for this demo, we can provide recommendations to that minority differently, i.e. by providing overall most popular articles to new customers and using different content based recommendations for new articles. "
   ]
  },
  {
   "cell_type": "code",
   "execution_count": 44,
   "id": "7c458152-a99d-46c4-ba4a-30ac6e3db821",
   "metadata": {
    "tags": []
   },
   "outputs": [],
   "source": [
    "g, _ = gds.graph.project('proj',['Customer', 'Article', 'Product'],{\n",
    "    'HISTORICALLY_PURCHASED':{'orientation':'UNDIRECTED'},\n",
    "    'IS_PRODUCT':{'orientation':'UNDIRECTED'},\n",
    "})"
   ]
  },
  {
   "cell_type": "code",
   "execution_count": 45,
   "id": "e9fe6d38-5b42-4229-80ce-7834e500464a",
   "metadata": {},
   "outputs": [
    {
     "data": {
      "text/plain": [
       "writeMillis                                                            354\n",
       "nodePropertiesWritten                                              1524746\n",
       "componentCount                                                       16572\n",
       "componentDistribution    {'p99': 3, 'min': 1, 'max': 1507255, 'mean': 9...\n",
       "postProcessingMillis                                                    27\n",
       "preProcessingMillis                                                      0\n",
       "computeMillis                                                          155\n",
       "configuration            {'writeConcurrency': 4, 'seedProperty': None, ...\n",
       "Name: 0, dtype: object"
      ]
     },
     "execution_count": 45,
     "metadata": {},
     "output_type": "execute_result"
    }
   ],
   "source": [
    "gds.wcc.write(g, writeProperty='histComponent')"
   ]
  },
  {
   "cell_type": "code",
   "execution_count": 46,
   "id": "9a7c032c-4f89-42e5-a787-d4ef64d60872",
   "metadata": {},
   "outputs": [],
   "source": [
    "g.drop()"
   ]
  },
  {
   "cell_type": "code",
   "execution_count": 47,
   "id": "90c8b258-13da-4a43-94c5-c93b00788453",
   "metadata": {},
   "outputs": [
    {
     "data": {
      "text/html": [
       "<div>\n",
       "<style scoped>\n",
       "    .dataframe tbody tr th:only-of-type {\n",
       "        vertical-align: middle;\n",
       "    }\n",
       "\n",
       "    .dataframe tbody tr th {\n",
       "        vertical-align: top;\n",
       "    }\n",
       "\n",
       "    .dataframe thead th {\n",
       "        text-align: right;\n",
       "    }\n",
       "</style>\n",
       "<table border=\"1\" class=\"dataframe\">\n",
       "  <thead>\n",
       "    <tr style=\"text-align: right;\">\n",
       "      <th></th>\n",
       "      <th>count(n)</th>\n",
       "    </tr>\n",
       "  </thead>\n",
       "  <tbody>\n",
       "    <tr>\n",
       "      <th>0</th>\n",
       "      <td>1356117</td>\n",
       "    </tr>\n",
       "  </tbody>\n",
       "</table>\n",
       "</div>"
      ],
      "text/plain": [
       "   count(n)\n",
       "0   1356117"
      ]
     },
     "execution_count": 47,
     "metadata": {},
     "output_type": "execute_result"
    }
   ],
   "source": [
    "gds.run_cypher('''\n",
    "    MATCH(n) \n",
    "    WITH n.histComponent AS maxComponent, count(n) AS cnt ORDER BY cnt DESC LIMIT 1\n",
    "    MATCH(n:Customer) WHERE n.histComponent = maxComponent\n",
    "    SET n:HistEstCustomer\n",
    "    RETURN count(n)\n",
    "''')"
   ]
  },
  {
   "cell_type": "code",
   "execution_count": 48,
   "id": "9afcb49a-1fdb-491d-ad86-20a918cf88c8",
   "metadata": {},
   "outputs": [
    {
     "data": {
      "text/html": [
       "<div>\n",
       "<style scoped>\n",
       "    .dataframe tbody tr th:only-of-type {\n",
       "        vertical-align: middle;\n",
       "    }\n",
       "\n",
       "    .dataframe tbody tr th {\n",
       "        vertical-align: top;\n",
       "    }\n",
       "\n",
       "    .dataframe thead th {\n",
       "        text-align: right;\n",
       "    }\n",
       "</style>\n",
       "<table border=\"1\" class=\"dataframe\">\n",
       "  <thead>\n",
       "    <tr style=\"text-align: right;\">\n",
       "      <th></th>\n",
       "      <th>count(n)</th>\n",
       "    </tr>\n",
       "  </thead>\n",
       "  <tbody>\n",
       "    <tr>\n",
       "      <th>0</th>\n",
       "      <td>104632</td>\n",
       "    </tr>\n",
       "  </tbody>\n",
       "</table>\n",
       "</div>"
      ],
      "text/plain": [
       "   count(n)\n",
       "0    104632"
      ]
     },
     "execution_count": 48,
     "metadata": {},
     "output_type": "execute_result"
    }
   ],
   "source": [
    "gds.run_cypher('''\n",
    "    MATCH(n) \n",
    "    WITH n.histComponent AS maxComponent, count(n) AS cnt ORDER BY cnt DESC LIMIT 1\n",
    "    MATCH(n:Article) WHERE n.histComponent = maxComponent\n",
    "    SET n:HistEstArticle\n",
    "    RETURN count(n)\n",
    "''')"
   ]
  },
  {
   "cell_type": "code",
   "execution_count": 49,
   "id": "2b76fa85-550e-42ec-9827-2e4ee9917bfb",
   "metadata": {},
   "outputs": [
    {
     "data": {
      "text/html": [
       "<div>\n",
       "<style scoped>\n",
       "    .dataframe tbody tr th:only-of-type {\n",
       "        vertical-align: middle;\n",
       "    }\n",
       "\n",
       "    .dataframe tbody tr th {\n",
       "        vertical-align: top;\n",
       "    }\n",
       "\n",
       "    .dataframe thead th {\n",
       "        text-align: right;\n",
       "    }\n",
       "</style>\n",
       "<table border=\"1\" class=\"dataframe\">\n",
       "  <thead>\n",
       "    <tr style=\"text-align: right;\">\n",
       "      <th></th>\n",
       "      <th>count(n)</th>\n",
       "    </tr>\n",
       "  </thead>\n",
       "  <tbody>\n",
       "    <tr>\n",
       "      <th>0</th>\n",
       "      <td>46500</td>\n",
       "    </tr>\n",
       "  </tbody>\n",
       "</table>\n",
       "</div>"
      ],
      "text/plain": [
       "   count(n)\n",
       "0     46500"
      ]
     },
     "execution_count": 49,
     "metadata": {},
     "output_type": "execute_result"
    }
   ],
   "source": [
    "gds.run_cypher('''\n",
    "    MATCH(n) \n",
    "    WITH n.histComponent AS maxComponent, count(n) AS cnt ORDER BY cnt DESC LIMIT 1\n",
    "    MATCH(n:Product) WHERE n.histComponent = maxComponent\n",
    "    SET n:HistEstProduct\n",
    "    RETURN count(n)\n",
    "''')"
   ]
  },
  {
   "cell_type": "markdown",
   "id": "fbbde3d1-9e97-445d-83b2-028026224718",
   "metadata": {},
   "source": [
    "## Apply GDS FastRP Node Embeddings and K-Nearest Neighbor (KNN) Similarity"
   ]
  },
  {
   "cell_type": "code",
   "execution_count": 52,
   "id": "c9d186e4-7c49-48a1-a9bf-8ae93d699422",
   "metadata": {},
   "outputs": [
    {
     "name": "stdout",
     "output_type": "stream",
     "text": [
      "CPU times: user 49.2 ms, sys: 5.34 ms, total: 54.6 ms\n",
      "Wall time: 1min 42s\n"
     ]
    }
   ],
   "source": [
    "%%time\n",
    "# graph projection\n",
    "g, _ = gds.graph.project('proj',['HistEstCustomer', 'HistEstArticle', 'HistEstProduct'],{\n",
    "    'HISTORICALLY_PURCHASED':{'orientation':'UNDIRECTED'},\n",
    "    'IS_PRODUCT':{'orientation':'UNDIRECTED'}}, readConcurrency=20)\n",
    "\n",
    "# embeddings (writing back Article embeddings in case we want to introspect later)\n",
    "gds.fastRP.mutate(g, mutateProperty='embedding', embeddingDimension=256, randomSeed=7474, concurrency=20)\n",
    "\n",
    "# KNN\n",
    "gds.graph.writeNodeProperties(g, ['embedding'], ['HistEstArticle'])\n",
    "knn_stats = gds.knn.write(g, nodeProperties=['embedding'], nodeLabels=['HistEstArticle'],\n",
    "                  writeRelationshipType='HIST_CUSTOMERS_ALSO_PURCHASED', writeProperty='score', similarityCutoff=0.82,\n",
    "                  sampleRate=1.0,maxIterations=1000, concurrency=20);"
   ]
  },
  {
   "cell_type": "code",
   "execution_count": 53,
   "id": "fac6980a-1f57-4717-b487-17361eb25534",
   "metadata": {},
   "outputs": [],
   "source": [
    "g.drop()"
   ]
  },
  {
   "cell_type": "markdown",
   "id": "4337e6cc-3a62-468d-88c3-d4edd180eb95",
   "metadata": {},
   "source": [
    "## Evaluate KNN Performance\n",
    "Select ground truth purchases and predictions (Recommendations) to calculate Mean Average Precision (MAP).  THis will provide a rough idea for how this method may perform in real life. "
   ]
  },
  {
   "cell_type": "code",
   "execution_count": 54,
   "id": "ed18e26f-085b-4226-a133-b6eadf52cf59",
   "metadata": {},
   "outputs": [
    {
     "name": "stdout",
     "output_type": "stream",
     "text": [
      "CPU times: user 5.37 s, sys: 23.3 ms, total: 5.39 s\n",
      "Wall time: 28.6 s\n"
     ]
    }
   ],
   "source": [
    "%%time\n",
    "pred_df = gds.run_cypher('''\n",
    "    MATCH(c:HistEstCustomer)-[:RECENTLY_PURCHASED]->()\n",
    "    WITH DISTINCT c\n",
    "    MATCH(c)-[r:HISTORICALLY_PURCHASED]->(a0) WHERE r.transactionDate > date($cutOffDate)\n",
    "    WITH c, a0, r\n",
    "    MATCH(a0)-[s:HIST_CUSTOMERS_ALSO_PURCHASED]->(a)\n",
    "    RETURN c.customerId AS customerId, a.articleId AS articleId, sum(s.score) AS aggScore, max(r.transactionDate)\n",
    "    ORDER BY customerId, aggScore DESC\n",
    "''', params = {'cutOffDate':str(cutoff_date - timedelta(days=42))[:10]})"
   ]
  },
  {
   "cell_type": "code",
   "execution_count": 56,
   "id": "d02f189f-4a29-41d5-9461-1c99d0694039",
   "metadata": {},
   "outputs": [
    {
     "name": "stdout",
     "output_type": "stream",
     "text": [
      "CPU times: user 7.75 s, sys: 85.2 ms, total: 7.84 s\n",
      "Wall time: 40.5 s\n"
     ]
    }
   ],
   "source": [
    "%%time\n",
    "obs_df = gds.run_cypher('''\n",
    "    MATCH(c:HistEstCustomer)-[r:RECENTLY_PURCHASED]->(a)\n",
    "    WITH c.customerId AS customerId, a.articleId AS articleId\n",
    "    RETURN customerId, articleId\n",
    "''')"
   ]
  },
  {
   "cell_type": "code",
   "execution_count": 57,
   "id": "31d3e63e-1b27-4bef-b813-16f4ab7679b0",
   "metadata": {},
   "outputs": [],
   "source": [
    "obs_eval_df = obs_df.groupby('customerId').agg({'articleId': lambda x: x.tolist()}).reset_index().rename(columns={'articleId':'observedPurchases'})"
   ]
  },
  {
   "cell_type": "code",
   "execution_count": 58,
   "id": "ccccb4f2-7de4-4084-ade3-82516710c108",
   "metadata": {},
   "outputs": [],
   "source": [
    "pred_eval_df = pred_df.groupby('customerId').agg({'articleId': lambda x: x.tolist()}).reset_index().rename(columns={'articleId':'predictedPurchases'})"
   ]
  },
  {
   "cell_type": "code",
   "execution_count": 59,
   "id": "30771e49-fd01-4c92-a99c-7e91d80c1318",
   "metadata": {},
   "outputs": [],
   "source": [
    "eval_df = obs_eval_df.merge(pred_eval_df, on='customerId', how='inner')"
   ]
  },
  {
   "cell_type": "code",
   "execution_count": 60,
   "id": "ad0cfc53-10f2-487d-9094-20e30c348d65",
   "metadata": {},
   "outputs": [],
   "source": [
    "from collections import Counter\n",
    "\n",
    "def average_precision(true_list,predicted_list,at_k):\n",
    "    if not isinstance(predicted_list, list):\n",
    "        return 0.0\n",
    "    true_dict = dict(Counter(true_list))\n",
    "    true_set = set(true_dict.keys())\n",
    "    length_pred = len(predicted_list)\n",
    "    p=0\n",
    "    K = min(at_k,length_pred)\n",
    "    for k in range(1,(K+1)):\n",
    "        v = predicted_list[k-1]\n",
    "        if v in true_list:\n",
    "            p += true_dict[v] *len(true_set.intersection(predicted_list[:k]))/k\n",
    "    return p/min(len(true_set),at_k)"
   ]
  },
  {
   "cell_type": "code",
   "execution_count": 61,
   "id": "7ee45326-7b1d-4707-8334-f355dcb31969",
   "metadata": {},
   "outputs": [],
   "source": [
    "eval_df['averagePrecisions'] = eval_df.apply(lambda row: average_precision(row.observedPurchases, row.predictedPurchases, 12), axis=1)"
   ]
  },
  {
   "cell_type": "code",
   "execution_count": 62,
   "id": "a096d730-7807-477c-96fd-5a9e51598518",
   "metadata": {},
   "outputs": [
    {
     "name": "stdout",
     "output_type": "stream",
     "text": [
      "Mean Average Precision of KNN on Last Week of Purchases: 0.67 %\n"
     ]
    }
   ],
   "source": [
    "print('Mean Average Precision of KNN on Last Week of Purchases: {:.2f} %'.format(100*eval_df['averagePrecisions'].sum()/eval_df.shape[0]))"
   ]
  },
  {
   "cell_type": "markdown",
   "id": "eeb819ff-84ed-41c0-92db-1185b22ffb02",
   "metadata": {},
   "source": [
    "Could be better, but certainly not too bad for a first round without tuning!"
   ]
  },
  {
   "cell_type": "code",
   "execution_count": 63,
   "id": "88458d1d-5ede-4324-b4eb-e75863e8b8cd",
   "metadata": {},
   "outputs": [],
   "source": [
    "#eval_df[eval_df['averagePrecisions'] > 0.0]"
   ]
  },
  {
   "cell_type": "code",
   "execution_count": null,
   "id": "8ca03ce1-b7c0-47df-a7eb-c564e98379e4",
   "metadata": {},
   "outputs": [],
   "source": []
  }
 ],
 "metadata": {
  "environment": {
   "kernel": "python3",
   "name": "tf2-gpu.2-8.m93",
   "type": "gcloud",
   "uri": "gcr.io/deeplearning-platform-release/tf2-gpu.2-8:m93"
  },
  "kernelspec": {
   "display_name": "Python 3",
   "language": "python",
   "name": "python3"
  },
  "language_info": {
   "codemirror_mode": {
    "name": "ipython",
    "version": 3
   },
   "file_extension": ".py",
   "mimetype": "text/x-python",
   "name": "python",
   "nbconvert_exporter": "python",
   "pygments_lexer": "ipython3",
   "version": "3.7.12"
  }
 },
 "nbformat": 4,
 "nbformat_minor": 5
}
